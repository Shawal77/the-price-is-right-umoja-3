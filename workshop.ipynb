{
  "cells": [
    {
      "cell_type": "markdown",
      "metadata": {
        "id": "K1ZjM2iCs2Uq"
      },
      "source": [
        "# PRICE IS RIGHT\n",
        "\n",
        "In this workshop,we'll design an application that allows a player to guess attributes about a price ie whether its high,low, or medium as set by the deployer. This is alot similar to rock paper scissors in that high beats medium which beats low and the winnner is decide in that order. Also the game continues until there is no draw.\n"
      ]
    },
    {
      "cell_type": "markdown",
      "metadata": {
        "id": "Lrkjr3Kgs2Vq"
      },
      "source": [
        "We assume this project is created in a directory named\n",
        "\n",
        "```~/reach/price-is-right```"
      ]
    },
    {
      "cell_type": "markdown",
      "metadata": {
        "id": "JZtLFgcLs2Vu"
      },
      "source": [
        "First we create the directorywhich is going to bethe home of our project then we changedirectory to the newly created folder\n",
        "\n",
        "```bash\n",
        "$ mkdir -p ~/reach/workshop-hash-lock && cd ~/reach/price-is-right\n",
        "```"
      ]
    },
    {
      "cell_type": "markdown",
      "metadata": {
        "id": "y6i-Qn-ms2V0"
      },
      "source": [
        "We assumethat after doing rps tutorial, you have installed reach on your machine. You can confirm this by checking the version with\n",
        "\n",
        "```bash\n",
        "../reach version\n",
        "```"
      ]
    },
    {
      "cell_type": "markdown",
      "metadata": {
        "id": "BmLo3XAVs2V4"
      },
      "source": [
        "then we start by initialising the reach program with\n",
        "\n",
        "```bash\n",
        "../reach init\n",
        "```\n",
        "\n",
        "This will create ```index.mjs``` and ```index.rsh``` files in our current directory and populate the files with some stater code as to be seen below."
      ]
    },
    {
      "cell_type": "markdown",
      "metadata": {
        "id": "yoSmusCAs2V8"
      },
      "source": [
        "## Problem Analysis\n",
        "\n",
        "The first step in any program design is to perform problem analysis and determine what information is relevant to the problem. When writing decentralized applications in Reach, this information analysis includes an analysis of the set of participants involved in a computation.\n",
        "\n",
        "In this case, let's ask the questions:\n",
        "\n",
        "- Who is involved in this application?\n",
        "- What information do they know at the start of the program?\n",
        "- What information will they discover in course?\n",
        "- what funds will change ang how?"
      ]
    },
    {
      "cell_type": "markdown",
      "metadata": {
        "id": "-KU88k6Ss2WB"
      },
      "source": [
        "#### Below are propossed answers to the above questions\n",
        "\n",
        "- This program involves two parties: the payer sending the funds and the receiver of those funds. By tradition, we'll call the first 'Alice' and the second 'Bob'. You might like to use other names, like 'Sender' and 'Receiver'.\n",
        "- Alice starts off knowing the amount she wants to wager and the guess is high,low or medium.\n",
        "- on the other hand Bob starts with nothing and will mostly depend on Alice's actions. If alice doesn't deploy Bob can't do a thing about it\n",
        "- Alice will learn Bob's choice and the result\n",
        "- alternatively Bob will learn the contract,the wager and finally alice's choice and result\n",
        "- Alice transfers funds at beginning and when Bob accepts the wager he also transfers funds to the network. The funds are transfered to the winner after the end of the game.\n",
        "\n",
        "Its this solution that we are going to try to implement in the course of this workshop."
      ]
    },
    {
      "cell_type": "markdown",
      "metadata": {
        "id": "E9qD9n0vs2WX"
      },
      "source": [
        "## Data Definition\n",
        "\n",
        "The next step of designing our program is representing this information in our program and deciding the participant interact interface for each participant. Which pieces of information go with which participants? Which are functions and which are values?\n",
        "\n",
        "Let's take a look at our code. In our index.rsh file, we have\n",
        "\n",
        "```\n",
        "  const Alice = Participant(\"Alice\", {\n",
        "    ...Deal,\n",
        "    wager: UInt,\n",
        "    deadline: UInt,\n",
        "  });\n",
        "\n",
        "  const Bob = Participant(\"Bob\", {\n",
        "    ...Deal,\n",
        "    acceptWager: Fun([UInt], Null),\n",
        "  });\n",
        "```\n",
        "So here, we set Alice's wager to be a UInt, same with the deadline while for Bob, we have an acceptWager function that takes a UInt(the wager Alice proposed) and returns nothing.\n",
        "\n",
        "They both inherit the Deal class whose contents are\n",
        "\n",
        "\n",
        "```\n",
        "  const Deal = {\n",
        "    ...hasRandom,\n",
        "    guessedPrice: Fun([], UInt),\n",
        "    seeResult: Fun([UInt], Null),\n",
        "    informTimeout: Fun([], Null),\n",
        "    informDraw: Fun([], Null),\n",
        "  };\n",
        "```\n",
        "The Deal class takes in the reach's hasRandom function for generating random UInts, has the guessedPrice function which takes in nothing but returns the guessed price. The seeResult takes in a UInt and returns nothing, informTimeout simply informs them of a timeout so takes nothing and returns nothing and pretty much same for informDraw.\n",
        "\n",
        "\n"
      ]
    }
  ],
  "metadata": {
    "kernelspec": {
      "display_name": "Python 3.10.4 64-bit",
      "language": "python",
      "name": "python3"
    },
    "language_info": {
      "name": "python",
      "version": "3.10.4"
    },
    "orig_nbformat": 4,
    "vscode": {
      "interpreter": {
        "hash": "916dbcbb3f70747c44a77c7bcd40155683ae19c65e1c03b4aa3499c5328201f1"
      }
    },
    "colab": {
      "provenance": []
    }
  },
  "nbformat": 4,
  "nbformat_minor": 0
}